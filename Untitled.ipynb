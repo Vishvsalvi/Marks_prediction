{
 "cells": [
  {
   "cell_type": "code",
   "execution_count": 60,
   "id": "a7c7e439",
   "metadata": {},
   "outputs": [],
   "source": [
    "import pandas as pd\n",
    "import numpy as np\n",
    "from sklearn import linear_model\n",
    "from sklearn.utils import shuffle\n",
    "from sklearn.model_selection import train_test_split\n",
    "import matplotlib.pyplot as plt\n",
    "import pickle"
   ]
  },
  {
   "cell_type": "code",
   "execution_count": 61,
   "id": "bdd6675b",
   "metadata": {},
   "outputs": [],
   "source": [
    "student_data = pd.read_csv(\"student-mat.csv\", sep=\";\")"
   ]
  },
  {
   "cell_type": "code",
   "execution_count": 62,
   "id": "f6e3f58a",
   "metadata": {},
   "outputs": [],
   "source": [
    "student_data = student_data[[\"G1\", \"G2\", \"G3\", \"studytime\", \"failures\", \"absences\"]]"
   ]
  },
  {
   "cell_type": "code",
   "execution_count": 63,
   "id": "d3fef53a",
   "metadata": {},
   "outputs": [],
   "source": [
    "predict = \"G3\""
   ]
  },
  {
   "cell_type": "code",
   "execution_count": 64,
   "id": "e41a3b9a",
   "metadata": {},
   "outputs": [
    {
     "name": "stderr",
     "output_type": "stream",
     "text": [
      "C:\\Users\\vishv\\AppData\\Local\\Temp\\ipykernel_20184\\43153113.py:1: FutureWarning: In a future version of pandas all arguments of DataFrame.drop except for the argument 'labels' will be keyword-only.\n",
      "  X = np.array(student_data.drop([predict], 1))\n"
     ]
    }
   ],
   "source": [
    "X = np.array(student_data.drop([predict], 1))"
   ]
  },
  {
   "cell_type": "code",
   "execution_count": 65,
   "id": "09b9c889",
   "metadata": {},
   "outputs": [],
   "source": [
    "y = np.array(student_data[predict])"
   ]
  },
  {
   "cell_type": "code",
   "execution_count": 66,
   "id": "e2f921ac",
   "metadata": {},
   "outputs": [],
   "source": [
    "X_train, X_test, y_train, y_test = train_test_split(X, y, test_size=0.4, random_state=42)"
   ]
  },
  {
   "cell_type": "code",
   "execution_count": 70,
   "id": "19d36366",
   "metadata": {},
   "outputs": [],
   "source": [
    "pickle_in = open(\"studentmodel.pickle\", \"rb\")"
   ]
  },
  {
   "cell_type": "code",
   "execution_count": 71,
   "id": "7ab1c671",
   "metadata": {},
   "outputs": [],
   "source": [
    "linear = pickle.load(pickle_in)"
   ]
  },
  {
   "cell_type": "code",
   "execution_count": 72,
   "id": "556e4e61",
   "metadata": {},
   "outputs": [],
   "source": [
    "acc = linear.score(X_test, y_test) # Checks the accuracy of the model"
   ]
  },
  {
   "cell_type": "code",
   "execution_count": 73,
   "id": "65c5dc8a",
   "metadata": {},
   "outputs": [
    {
     "name": "stdout",
     "output_type": "stream",
     "text": [
      "0.8172756829811947\n"
     ]
    }
   ],
   "source": [
    "print(acc)"
   ]
  },
  {
   "cell_type": "code",
   "execution_count": 74,
   "id": "967676b6",
   "metadata": {},
   "outputs": [
    {
     "name": "stdout",
     "output_type": "stream",
     "text": [
      "Coefficients:  [ 0.15799068  0.96556439 -0.16432009 -0.35771738  0.02860553]\n"
     ]
    }
   ],
   "source": [
    "print(\"Coefficients: \", linear.coef_)"
   ]
  },
  {
   "cell_type": "code",
   "execution_count": 75,
   "id": "d514ac80",
   "metadata": {},
   "outputs": [
    {
     "name": "stdout",
     "output_type": "stream",
     "text": [
      "Intercept:  -1.3499391057720889\n"
     ]
    }
   ],
   "source": [
    "print(\"Intercept: \", linear.intercept_)"
   ]
  },
  {
   "cell_type": "code",
   "execution_count": 76,
   "id": "68f609b2",
   "metadata": {},
   "outputs": [],
   "source": [
    "predictions = linear.predict(X_test)"
   ]
  },
  {
   "cell_type": "code",
   "execution_count": 81,
   "id": "1b20c6ce",
   "metadata": {},
   "outputs": [
    {
     "data": {
      "image/png": "[encoded data removed]",
      "text/plain": [
       "<Figure size 640x480 with 1 Axes>"
      ]
     },
     "metadata": {},
     "output_type": "display_data"
    }
   ],
   "source": [
    "p = \"absences\"\n",
    "plt.scatter(student_data[\"studytime\"], student_data[p])\n",
    "plt.xlabel(p)\n",
    "plt.ylabel(\"Final result\")\n",
    "plt.show()"
   ]
  },
  {
   "cell_type": "code",
   "execution_count": null,
   "id": "676603bc",
   "metadata": {},
   "outputs": [],
   "source": []
  }
 ],
 "metadata": {
  "kernelspec": {
   "display_name": "Python 3 (ipykernel)",
   "language": "python",
   "name": "python3"
  },
  "language_info": {
   "codemirror_mode": {
    "name": "ipython",
    "version": 3
   },
   "file_extension": ".py",
   "mimetype": "text/x-python",
   "name": "python",
   "nbconvert_exporter": "python",
   "pygments_lexer": "ipython3",
   "version": "3.9.13"
  }
 },
 "nbformat": 4,
 "nbformat_minor": 5
}
